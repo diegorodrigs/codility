{
 "cells": [
  {
   "cell_type": "code",
   "execution_count": 1,
   "metadata": {},
   "outputs": [],
   "source": [
    "import time\n",
    "import random"
   ]
  },
  {
   "cell_type": "code",
   "execution_count": 5,
   "metadata": {},
   "outputs": [],
   "source": [
    "def solution(A,B):\n",
    "\n",
    "    if len(A) == 1:\n",
    "        return 1\n",
    "\n",
    "    arr = []\n",
    "\n",
    "    for i in range(len(A)):\n",
    "        arr.append((A[i],B[i]))\n",
    "\n",
    "    arr_ = []\n",
    "    arr_.append(arr[0])\n",
    "\n",
    "    for i in range(1,len(arr)):\n",
    "        \n",
    "#         print(\"i: \",i,\"arr[i]: \",arr[i],\"arr_: \",[arr_])\n",
    "\n",
    "        while(True):\n",
    "\n",
    "            if arr[i][1] == 0 and arr_[-1][1] == 1:\n",
    "\n",
    "                if arr[i][0] < arr_[len(arr_)-1][0]:\n",
    "                    break\n",
    "                else:\n",
    "                    del arr_[len(arr_)-1]\n",
    "                    if len(arr_) == 0:\n",
    "                        arr_.append(arr[i])\n",
    "                        break\n",
    "            else:\n",
    "                arr_.append(arr[i])\n",
    "                break\n",
    "\n",
    "    return len(arr_)"
   ]
  },
  {
   "cell_type": "code",
   "execution_count": 6,
   "metadata": {},
   "outputs": [
    {
     "data": {
      "text/plain": [
       "2"
      ]
     },
     "execution_count": 6,
     "metadata": {},
     "output_type": "execute_result"
    }
   ],
   "source": [
    "A = [4,3,2,1,5]\n",
    "B = [0,1,0,0,0]\n",
    "solution(A,B)\n",
    "# [solution(A,B),solution2(A,B)]"
   ]
  },
  {
   "cell_type": "code",
   "execution_count": 123,
   "metadata": {},
   "outputs": [
    {
     "data": {
      "text/plain": [
       "[3, 3]"
      ]
     },
     "execution_count": 123,
     "metadata": {},
     "output_type": "execute_result"
    }
   ],
   "source": [
    "Ao = [4,3,2,1,5]\n",
    "Bo = [0,1,0,0,1]\n",
    "solution(A,B)\n",
    "# [solution(A,B),solution2(A,B)]"
   ]
  },
  {
   "cell_type": "code",
   "execution_count": 124,
   "metadata": {},
   "outputs": [
    {
     "data": {
      "text/plain": [
       "[5, 5]"
      ]
     },
     "execution_count": 124,
     "metadata": {},
     "output_type": "execute_result"
    }
   ],
   "source": [
    "A = [4,3,2,1,5]\n",
    "B = [1,1,1,1,1]\n",
    "solution(A,B)\n",
    "# [solution(A,B),solution2(A,B)]"
   ]
  },
  {
   "cell_type": "code",
   "execution_count": 125,
   "metadata": {},
   "outputs": [
    {
     "data": {
      "text/plain": [
       "[5, 5]"
      ]
     },
     "execution_count": 125,
     "metadata": {},
     "output_type": "execute_result"
    }
   ],
   "source": [
    "A = [4,3,2,1,5]\n",
    "B = [0,0,0,0,0]\n",
    "solution(A,B)\n",
    "# [solution(A,B),solution2(A,B)]"
   ]
  },
  {
   "cell_type": "code",
   "execution_count": 126,
   "metadata": {},
   "outputs": [
    {
     "data": {
      "text/plain": [
       "[1, 1]"
      ]
     },
     "execution_count": 126,
     "metadata": {},
     "output_type": "execute_result"
    }
   ],
   "source": [
    "A = [4,3,2,1,5]\n",
    "B = [1,1,0,0,0]\n",
    "solution(A,B)\n",
    "# [solution(A,B),solution2(A,B)]"
   ]
  },
  {
   "cell_type": "code",
   "execution_count": 127,
   "metadata": {
    "scrolled": true
   },
   "outputs": [
    {
     "data": {
      "text/plain": [
       "[5, 5]"
      ]
     },
     "execution_count": 127,
     "metadata": {},
     "output_type": "execute_result"
    }
   ],
   "source": [
    "A = [4,3,2,1,5]\n",
    "B = [0,0,1,1,1]\n",
    "solution(A,B)\n",
    "# [solution(A,B),solution2(A,B)]"
   ]
  },
  {
   "cell_type": "code",
   "execution_count": 128,
   "metadata": {},
   "outputs": [
    {
     "data": {
      "text/plain": [
       "[2, 2]"
      ]
     },
     "execution_count": 128,
     "metadata": {},
     "output_type": "execute_result"
    }
   ],
   "source": [
    "A = [4,3,2,1,5]\n",
    "B = [0,1,0,1,0]\n",
    "solution(A,B)\n",
    "# [solution(A,B),solution2(A,B)]"
   ]
  },
  {
   "cell_type": "code",
   "execution_count": 7,
   "metadata": {},
   "outputs": [],
   "source": [
    "X = 10000\n",
    "A = random.sample(list(range(1,X+1)), k=X)\n",
    "B = random.choices(list(range(0,2)), k=X)\n",
    "# A = [2,10,8,6,4,1,7,3,5,9]\n",
    "# B = [1,0,1,0,1,0,1,0,0,1]\n",
    "# [A,B]"
   ]
  },
  {
   "cell_type": "code",
   "execution_count": 8,
   "metadata": {},
   "outputs": [
    {
     "name": "stdout",
     "output_type": "stream",
     "text": [
      "[219, 0.010003328323364258]\n"
     ]
    }
   ],
   "source": [
    "# check_reduz(A,B)\n",
    "start_time = time.time()\n",
    "print([solution(A,B),(time.time() - start_time)])"
   ]
  }
 ],
 "metadata": {
  "kernelspec": {
   "display_name": "Python 3",
   "language": "python",
   "name": "python3"
  },
  "language_info": {
   "codemirror_mode": {
    "name": "ipython",
    "version": 3
   },
   "file_extension": ".py",
   "mimetype": "text/x-python",
   "name": "python",
   "nbconvert_exporter": "python",
   "pygments_lexer": "ipython3",
   "version": "3.8.3"
  }
 },
 "nbformat": 4,
 "nbformat_minor": 4
}
