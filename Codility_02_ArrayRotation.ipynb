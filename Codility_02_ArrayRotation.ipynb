{
 "cells": [
  {
   "cell_type": "code",
   "execution_count": 49,
   "metadata": {},
   "outputs": [],
   "source": [
    "A = [3, 8, 9, 7, 6]\n",
    "K = 1\n",
    "# shifts = K"
   ]
  },
  {
   "cell_type": "code",
   "execution_count": 74,
   "metadata": {},
   "outputs": [],
   "source": [
    "def calc_real_shifts(A,K):\n",
    "#     if(K < len(A)):\n",
    "#         shifts = K\n",
    "#     else:\n",
    "#         shifts = K % len(A)\n",
    "    shifts = K % len(A)\n",
    "        \n",
    "    return shifts"
   ]
  },
  {
   "cell_type": "code",
   "execution_count": 81,
   "metadata": {},
   "outputs": [
    {
     "data": {
      "text/plain": [
       "0"
      ]
     },
     "execution_count": 81,
     "metadata": {},
     "output_type": "execute_result"
    }
   ],
   "source": [
    "calc_real_shifts(A,10)"
   ]
  },
  {
   "cell_type": "code",
   "execution_count": 128,
   "metadata": {},
   "outputs": [],
   "source": [
    "def solution(A,K):\n",
    "\n",
    "    if((K <= 0) | (len(A) <= 1)):\n",
    "        resu = A\n",
    "    else:\n",
    "        shifts = K % len(A)\n",
    "        \n",
    "        # creating lists\n",
    "        fin = A[(len(A)-shifts):(len(A))]\n",
    "        beg = A[0:(len(A)-shifts)]\n",
    "        \n",
    "        # rotated list\n",
    "        resu = fin + beg\n",
    "        \n",
    "    return resu\n",
    "        \n",
    "    "
   ]
  },
  {
   "cell_type": "code",
   "execution_count": 132,
   "metadata": {},
   "outputs": [
    {
     "data": {
      "text/plain": [
       "[1, 4]"
      ]
     },
     "execution_count": 132,
     "metadata": {},
     "output_type": "execute_result"
    }
   ],
   "source": [
    "# A = [3, 8, 9, 7, 6]\n",
    "A = [4,1]\n",
    "K = 1\n",
    "solution(A,K)"
   ]
  },
  {
   "cell_type": "code",
   "execution_count": 40,
   "metadata": {},
   "outputs": [
    {
     "name": "stdout",
     "output_type": "stream",
     "text": [
      "[[], [3, 8, 9, 7, 6]]\n"
     ]
    }
   ],
   "source": [
    "fin = A[(len(A)-shifts):(len(A))]\n",
    "beg = A[0:(len(A)-shifts)]\n",
    "print([beg,fin])"
   ]
  },
  {
   "cell_type": "code",
   "execution_count": 22,
   "metadata": {},
   "outputs": [
    {
     "data": {
      "text/plain": [
       "[7, 6]"
      ]
     },
     "execution_count": 22,
     "metadata": {},
     "output_type": "execute_result"
    }
   ],
   "source": [
    "fin"
   ]
  }
 ],
 "metadata": {
  "kernelspec": {
   "display_name": "Python 3",
   "language": "python",
   "name": "python3"
  },
  "language_info": {
   "codemirror_mode": {
    "name": "ipython",
    "version": 3
   },
   "file_extension": ".py",
   "mimetype": "text/x-python",
   "name": "python",
   "nbconvert_exporter": "python",
   "pygments_lexer": "ipython3",
   "version": "3.8.3"
  }
 },
 "nbformat": 4,
 "nbformat_minor": 4
}
