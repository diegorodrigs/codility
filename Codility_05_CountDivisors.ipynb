{
 "cells": [
  {
   "cell_type": "code",
   "execution_count": 30,
   "metadata": {},
   "outputs": [],
   "source": [
    "import time"
   ]
  },
  {
   "cell_type": "code",
   "execution_count": 44,
   "metadata": {},
   "outputs": [],
   "source": [
    "def solution(A, B, K):\n",
    "    lim_inf = A/K\n",
    "    lim_sup = B/K\n",
    "    res_inf = A % K\n",
    "    res_sup = B % K\n",
    "    \n",
    "    if(res_inf == 0):\n",
    "        num_inf = ((A + (K-res_inf))/K) - 1\n",
    "    else:\n",
    "        num_inf = ((A + (K-res_inf))/K)\n",
    "        \n",
    "#     if(res_sup == 0):\n",
    "#         num_sup = ((B - res_sup)/K) - 1\n",
    "#     else:\n",
    "#         num_sup = ((B - res_sup)/K)        \n",
    "        \n",
    "    num_sup = (B - res_sup)/K\n",
    "    \n",
    "    quant = num_sup - num_inf + 1 \n",
    "#     print(res_inf,num_inf,res_sup,num_sup)\n",
    "    \n",
    "    return int(quant)\n",
    "#     if(res_inf == 0):\n",
    "#         num_inf = int(lim_inf)\n",
    "#     else:\n",
    "#         num_inf = int( + 1)\n",
    "        \n",
    "#     if(res_sup == 0):\n",
    "#         num_sup = int(lim_sup)\n",
    "#     else:\n",
    "#         num_sup = int(round(lim_sup,0) + 1)\n",
    "    \n",
    "#     print(lim_inf,res_inf,num_inf,lim_sup,res_sup,num_sup)\n",
    "#     print(res_inf,num_inf,res_sup,num_sup)\n",
    "#     print(num_inf,num_sup)"
   ]
  },
  {
   "cell_type": "code",
   "execution_count": 53,
   "metadata": {},
   "outputs": [
    {
     "name": "stdout",
     "output_type": "stream",
     "text": [
      "[1000000000, 0.0]\n"
     ]
    }
   ],
   "source": [
    "# A = 0\n",
    "# B = 4\n",
    "# K = 4\n",
    "\n",
    "A = 1\n",
    "B = 2000000000\n",
    "K = 2\n",
    "\n",
    "\n",
    "start_time = time.time()\n",
    "print([solution(A, B, K),(time.time() - start_time)])"
   ]
  },
  {
   "cell_type": "code",
   "execution_count": null,
   "metadata": {},
   "outputs": [],
   "source": []
  }
 ],
 "metadata": {
  "kernelspec": {
   "display_name": "Python 3",
   "language": "python",
   "name": "python3"
  },
  "language_info": {
   "codemirror_mode": {
    "name": "ipython",
    "version": 3
   },
   "file_extension": ".py",
   "mimetype": "text/x-python",
   "name": "python",
   "nbconvert_exporter": "python",
   "pygments_lexer": "ipython3",
   "version": "3.8.3"
  }
 },
 "nbformat": 4,
 "nbformat_minor": 4
}
