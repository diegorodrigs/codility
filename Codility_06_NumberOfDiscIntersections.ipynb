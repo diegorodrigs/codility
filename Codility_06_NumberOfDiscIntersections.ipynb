{
 "cells": [
  {
   "cell_type": "code",
   "execution_count": 119,
   "metadata": {},
   "outputs": [],
   "source": [
    "import time\n",
    "import random"
   ]
  },
  {
   "cell_type": "code",
   "execution_count": 126,
   "metadata": {},
   "outputs": [],
   "source": [
    "def accumu(lis):\n",
    "    total = 0\n",
    "    for x in lis:\n",
    "        total += x\n",
    "        yield total"
   ]
  },
  {
   "cell_type": "code",
   "execution_count": 127,
   "metadata": {},
   "outputs": [],
   "source": [
    "def solution(A):\n",
    "\n",
    "    if(len(A)>1):\n",
    "    \n",
    "        # write your code in Python 3.6\n",
    "        center = list(range(len(A)))\n",
    "        lim_inf = [e1-e2 for (e1, e2) in zip(center, A)]\n",
    "        lim_sup = [e1+e2 for (e1, e2) in zip(center, A)]\n",
    "\n",
    "        # LIST DE CARACTERES\n",
    "        N = len(lim_inf)\n",
    "        li_c = ['A']*N\n",
    "        ls_c = ['F']*N\n",
    "\n",
    "        # Juntando as listas\n",
    "\n",
    "        f_ln = lim_inf + lim_sup\n",
    "        f_lc = li_c + ls_c\n",
    "        # f_li.append(li_c)\n",
    "\n",
    "\n",
    "        # ordenando as listas\n",
    "        # temp = sorted(zip(f_ln, f_lc), key=lambda x: x[0])\n",
    "        temp = sorted(zip(f_ln, f_lc))\n",
    "        f_ln,f_lc  = map(list, zip(*temp))\n",
    "\n",
    "\n",
    "        ###############################################\n",
    "        # contando a quantidade de circulos abertos\n",
    "        ###############################################\n",
    "\n",
    "        # transformando as letras em números\n",
    "        f_lc_n = [1 if x == 'A' else -1 for x in f_lc]\n",
    "\n",
    "        # soma acumulada\n",
    "        f_lc_n_acum = list(accumu(f_lc_n))\n",
    "\n",
    "        # shift 1\n",
    "        f_lc_n_acum = [0] + f_lc_n_acum[0:(len(f_lc_n_acum)-1)]\n",
    "\n",
    "        ###############################################\n",
    "        # flag de circulos abertos\n",
    "        ###############################################\n",
    "\n",
    "        # lista 1 se for A\n",
    "        a_lis = [1 if x == 'A' else 0 for x in f_lc]\n",
    "\n",
    "        ###############################################\n",
    "        # multiplicando as listas e somando o resultado\n",
    "        ###############################################\n",
    "\n",
    "        quant = sum([e1 * e2 for (e1,e2) in zip(f_lc_n_acum,a_lis)])\n",
    "\n",
    "        if quant > 10000000:\n",
    "            quant = -1\n",
    "\n",
    "    else:\n",
    "        quant = 0\n",
    "        \n",
    "    return quant"
   ]
  },
  {
   "cell_type": "code",
   "execution_count": 128,
   "metadata": {
    "scrolled": false
   },
   "outputs": [
    {
     "name": "stdout",
     "output_type": "stream",
     "text": [
      "[100591, 0.02799391746520996]\n"
     ]
    }
   ],
   "source": [
    "N = 10000\n",
    "X = 10\n",
    "A = random.choices(list(range(0,X+1)), k=N)\n",
    "# A = [1,5,2,1,4,0]\n",
    "# A = [10]\n",
    "\n",
    "start_time = time.time()\n",
    "print([solution(A),(time.time() - start_time)])"
   ]
  }
 ],
 "metadata": {
  "kernelspec": {
   "display_name": "Python 3",
   "language": "python",
   "name": "python3"
  },
  "language_info": {
   "codemirror_mode": {
    "name": "ipython",
    "version": 3
   },
   "file_extension": ".py",
   "mimetype": "text/x-python",
   "name": "python",
   "nbconvert_exporter": "python",
   "pygments_lexer": "ipython3",
   "version": "3.8.3"
  }
 },
 "nbformat": 4,
 "nbformat_minor": 4
}
