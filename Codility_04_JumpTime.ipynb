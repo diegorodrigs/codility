{
 "cells": [
  {
   "cell_type": "code",
   "execution_count": 73,
   "metadata": {},
   "outputs": [],
   "source": [
    "import time\n",
    "import random"
   ]
  },
  {
   "cell_type": "code",
   "execution_count": 157,
   "metadata": {},
   "outputs": [],
   "source": [
    "def solution(X, A):\n",
    "    # create reference list\n",
    "    list_ref = list(range(1,X+1))\n",
    "    pos = [];\n",
    "    \n",
    "    # compare A with the reference list\n",
    "    comp_list = list(set(list_ref) - set(A))\n",
    "#     print(comp_list)\n",
    "    \n",
    "    if(len(comp_list) > 0):\n",
    "        resu = -1\n",
    "    else:\n",
    "        # remove duplicates\n",
    "        list_uniq = list(dict.fromkeys(A))\n",
    "        \n",
    "        # last element of list_ref\n",
    "        last_elem = list_uniq[-1]\n",
    "        \n",
    "        # find last element index\n",
    "        resu = A.index(last_elem)\n",
    "   \n",
    "    return resu\n"
   ]
  },
  {
   "cell_type": "code",
   "execution_count": 158,
   "metadata": {},
   "outputs": [],
   "source": [
    "X = 7000\n",
    "N = 10*X\n",
    "# X = 50\n",
    "# N = 10*X\n",
    "# A = [1,3,1,4,2,3,5,4,2]\n",
    "# A = [1,3,1,4,2,3,10,4,8]\n",
    "A = random.choices(list(range(1,X+1)), k=N)"
   ]
  },
  {
   "cell_type": "code",
   "execution_count": 159,
   "metadata": {},
   "outputs": [
    {
     "name": "stdout",
     "output_type": "stream",
     "text": [
      "[62592, 0.006994724273681641]\n"
     ]
    }
   ],
   "source": [
    "start_time = time.time()\n",
    "print([solution(X,A),(time.time() - start_time)])"
   ]
  }
 ],
 "metadata": {
  "kernelspec": {
   "display_name": "Python 3",
   "language": "python",
   "name": "python3"
  },
  "language_info": {
   "codemirror_mode": {
    "name": "ipython",
    "version": 3
   },
   "file_extension": ".py",
   "mimetype": "text/x-python",
   "name": "python",
   "nbconvert_exporter": "python",
   "pygments_lexer": "ipython3",
   "version": "3.8.3"
  }
 },
 "nbformat": 4,
 "nbformat_minor": 4
}
