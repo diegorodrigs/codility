{
 "cells": [
  {
   "cell_type": "code",
   "execution_count": 91,
   "metadata": {},
   "outputs": [],
   "source": [
    "# Function to convert Decimal number  \n",
    "# to Binary number  \n",
    "\n",
    "def substract_lists(list1,list2):\n",
    "    # create zip object\n",
    "    zip_object = zip(list1, list2)\n",
    "    # initiate the resu list\n",
    "    resu = []\n",
    "    \n",
    "    # Substract the element\n",
    "    for list1_i, list2_i in zip_object:\n",
    "        resu.append(list1_i-list2_i)\n",
    "\n",
    "    # return the result\n",
    "    return resu\n"
   ]
  },
  {
   "cell_type": "code",
   "execution_count": 84,
   "metadata": {},
   "outputs": [],
   "source": [
    "n = 10"
   ]
  },
  {
   "cell_type": "code",
   "execution_count": 106,
   "metadata": {},
   "outputs": [
    {
     "name": "stdout",
     "output_type": "stream",
     "text": [
      "1010\n",
      "['1', '0', '1', '0']\n",
      "[0, 2]\n",
      "[0, 0, 2]\n",
      "[0, 2, 2]\n",
      "2\n"
     ]
    }
   ],
   "source": [
    "\n",
    "# Converte para binário\n",
    "bin_str = bin(n).replace(\"0b\", \"\")\n",
    "print(bin_str)\n",
    "\n",
    "# Separando os digitos\n",
    "sep_bin = list(bin_str)\n",
    "print(sep_bin)\n",
    "\n",
    "# Posições com número 1\n",
    "pos = [i for i, j in enumerate(sep_bin) if j == '1']\n",
    "print(pos)\n",
    "\n",
    "vec1 = pos.copy(); vec1.insert(0,vec1[0])\n",
    "print(vec1)\n",
    "\n",
    "vec2 = pos.copy(); vec2.append(vec2[len(vec2)-1])\n",
    "print(vec2)\n",
    "\n",
    "# Substraindo as posições\n",
    "# list(set(vec1) - set(vec2))\n",
    "substract_lists(vec2,vec1)\n",
    "\n",
    "# Calculando a diferença\n",
    "diff = max(substract_lists(vec2,vec1))\n",
    "print(diff)\n",
    "\n",
    "# pos.append(2)\n",
    "\n",
    "# Calculando as distâncias entre números consecutivos\n",
    "# print(pos.append(0))\n",
    "# if(len(pos) > 0):\n",
    "#     vec1 = pos.insert(0, 0)\n",
    "#     print(vec1)\n",
    "# #     print(len(pos))"
   ]
  },
  {
   "cell_type": "code",
   "execution_count": 115,
   "metadata": {},
   "outputs": [],
   "source": [
    "def maior_diff_bin(n):\n",
    "\n",
    "    # Converte para binário\n",
    "    bin_str = bin(n).replace(\"0b\", \"\")\n",
    "#     print(bin_str)\n",
    "\n",
    "    # Separando os digitos\n",
    "    sep_bin = list(bin_str)\n",
    "#     print(sep_bin)\n",
    "\n",
    "    # Posições com número 1\n",
    "    pos = [i for i, j in enumerate(sep_bin) if j == '1']\n",
    "#     print(pos)\n",
    "\n",
    "    if(len(pos) <= 1):\n",
    "        diff = 0\n",
    "    else:\n",
    "        vec1 = pos.copy(); vec1.insert(0,vec1[0])\n",
    "#         print(vec1)\n",
    "\n",
    "        vec2 = pos.copy(); vec2.append(vec2[len(vec2)-1])\n",
    "#         print(vec2)\n",
    "\n",
    "        # Substraindo as posições\n",
    "        substract_lists(vec2,vec1)\n",
    "\n",
    "        # Calculando a diferença\n",
    "        diff = max(substract_lists(vec2,vec1))-1\n",
    "        \n",
    "#     print(diff)\n",
    "    \n",
    "    return diff\n"
   ]
  },
  {
   "cell_type": "code",
   "execution_count": 117,
   "metadata": {},
   "outputs": [
    {
     "data": {
      "text/plain": [
       "2"
      ]
     },
     "execution_count": 117,
     "metadata": {},
     "output_type": "execute_result"
    }
   ],
   "source": [
    "maior_diff_bin(9)"
   ]
  },
  {
   "cell_type": "code",
   "execution_count": 102,
   "metadata": {},
   "outputs": [
    {
     "name": "stdout",
     "output_type": "stream",
     "text": [
      "[10, 0, 2, 10]\n"
     ]
    }
   ],
   "source": [
    "print(vec1)"
   ]
  },
  {
   "cell_type": "code",
   "execution_count": 66,
   "metadata": {},
   "outputs": [],
   "source": [
    "num_list = [1, 2, 3, 4, 5]\n",
    "\n",
    "num = 10\n",
    "\n",
    "index = 0\n",
    "\n",
    "num_list.insert(index, num)"
   ]
  },
  {
   "cell_type": "code",
   "execution_count": 67,
   "metadata": {
    "scrolled": true
   },
   "outputs": [
    {
     "data": {
      "text/plain": [
       "[10, 1, 2, 3, 4, 5]"
      ]
     },
     "execution_count": 67,
     "metadata": {},
     "output_type": "execute_result"
    }
   ],
   "source": [
    "num_list"
   ]
  },
  {
   "cell_type": "code",
   "execution_count": 71,
   "metadata": {},
   "outputs": [],
   "source": [
    "pos.insert(0, 10)"
   ]
  },
  {
   "cell_type": "code",
   "execution_count": 77,
   "metadata": {},
   "outputs": [
    {
     "data": {
      "text/plain": [
       "[10, 0, 2]"
      ]
     },
     "execution_count": 77,
     "metadata": {},
     "output_type": "execute_result"
    }
   ],
   "source": [
    "pos"
   ]
  }
 ],
 "metadata": {
  "kernelspec": {
   "display_name": "Python 3",
   "language": "python",
   "name": "python3"
  },
  "language_info": {
   "codemirror_mode": {
    "name": "ipython",
    "version": 3
   },
   "file_extension": ".py",
   "mimetype": "text/x-python",
   "name": "python",
   "nbconvert_exporter": "python",
   "pygments_lexer": "ipython3",
   "version": "3.8.3"
  }
 },
 "nbformat": 4,
 "nbformat_minor": 4
}
